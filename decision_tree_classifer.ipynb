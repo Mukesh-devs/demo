{
 "cells": [
  {
   "cell_type": "code",
   "execution_count": 1,
   "id": "2a4d2401-7a41-49b3-8e45-b324c25cd983",
   "metadata": {},
   "outputs": [
    {
     "ename": "AttributeError",
     "evalue": "module 'numpy' has no attribute 'np'",
     "output_type": "error",
     "traceback": [
      "\u001b[1;31m---------------------------------------------------------------------------\u001b[0m",
      "\u001b[1;31mAttributeError\u001b[0m                            Traceback (most recent call last)",
      "Cell \u001b[1;32mIn[1], line 37\u001b[0m\n\u001b[0;32m     35\u001b[0m             \u001b[38;5;28;01mreturn\u001b[39;00m decision_tree\n\u001b[0;32m     36\u001b[0m features\u001b[38;5;241m=\u001b[39m [\u001b[38;5;124m'\u001b[39m\u001b[38;5;124mOutlook\u001b[39m\u001b[38;5;124m'\u001b[39m,\u001b[38;5;124m'\u001b[39m\u001b[38;5;124mTemperature\u001b[39m\u001b[38;5;124m'\u001b[39m,\u001b[38;5;124m'\u001b[39m\u001b[38;5;124mHumidity\u001b[39m\u001b[38;5;124m'\u001b[39m,\u001b[38;5;124m'\u001b[39m\u001b[38;5;124mWindy\u001b[39m\u001b[38;5;124m'\u001b[39m]\n\u001b[1;32m---> 37\u001b[0m decision_tree\u001b[38;5;241m=\u001b[39mid3(df,df,features)\n",
      "Cell \u001b[1;32mIn[1], line 26\u001b[0m, in \u001b[0;36mid3\u001b[1;34m(data, original_data, features, target_attribute_name, parent_node_class)\u001b[0m\n\u001b[0;32m     24\u001b[0m \u001b[38;5;28;01melse\u001b[39;00m:\n\u001b[0;32m     25\u001b[0m     parent_node_class\u001b[38;5;241m=\u001b[39mnp\u001b[38;5;241m.\u001b[39munique(data[target_attribute_name])[np\u001b[38;5;241m.\u001b[39margmax(np\u001b[38;5;241m.\u001b[39munique(data[target_attribute_name], return_counts\u001b[38;5;241m=\u001b[39m\u001b[38;5;28;01mTrue\u001b[39;00m)[\u001b[38;5;241m1\u001b[39m])]\n\u001b[1;32m---> 26\u001b[0m     item_values\u001b[38;5;241m=\u001b[39m[info_gain(data,feature,target_attribute_name) \u001b[38;5;28;01mfor\u001b[39;00m feature \u001b[38;5;129;01min\u001b[39;00m features]\n\u001b[0;32m     27\u001b[0m     best_feature_index\u001b[38;5;241m=\u001b[39mnp\u001b[38;5;241m.\u001b[39margmax(item_values)\n\u001b[0;32m     28\u001b[0m     best_feature\u001b[38;5;241m=\u001b[39mfeatures[best_feature_index]\n",
      "Cell \u001b[1;32mIn[1], line 13\u001b[0m, in \u001b[0;36minfo_gain\u001b[1;34m(data, split_attribute_name, target_name)\u001b[0m\n\u001b[0;32m     11\u001b[0m \u001b[38;5;28;01mdef\u001b[39;00m \u001b[38;5;21minfo_gain\u001b[39m(data, split_attribute_name,target_name\u001b[38;5;241m=\u001b[39m\u001b[38;5;124m\"\u001b[39m\u001b[38;5;124mPlay Golf\u001b[39m\u001b[38;5;124m\"\u001b[39m):\n\u001b[0;32m     12\u001b[0m     total_entropy\u001b[38;5;241m=\u001b[39mentropy(data[target_name])\n\u001b[1;32m---> 13\u001b[0m     vals,counts\u001b[38;5;241m=\u001b[39mnp\u001b[38;5;241m.\u001b[39mnp\u001b[38;5;241m.\u001b[39munique(data[split_attribute_name],return_counts\u001b[38;5;241m=\u001b[39m\u001b[38;5;28;01mTrue\u001b[39;00m)\n\u001b[0;32m     14\u001b[0m     weighted_entropy\u001b[38;5;241m=\u001b[39mnp\u001b[38;5;241m.\u001b[39msum([(counts[i]\u001b[38;5;241m/\u001b[39mnp\u001b[38;5;241m.\u001b[39msum(counts))\u001b[38;5;241m*\u001b[39mentropy(data\u001b[38;5;241m.\u001b[39mwhere(data[split_attribute_name]\u001b[38;5;241m==\u001b[39mvals[i])\u001b[38;5;241m.\u001b[39mdropna()[target_name]) \u001b[38;5;28;01mfor\u001b[39;00m i \u001b[38;5;129;01min\u001b[39;00m \u001b[38;5;28mrange\u001b[39m (\u001b[38;5;28mlen\u001b[39m(vals))])\n\u001b[0;32m     15\u001b[0m     information_gain\u001b[38;5;241m=\u001b[39m total_entropy\u001b[38;5;241m-\u001b[39mweighted_entropy\n",
      "File \u001b[1;32m~\\AppData\\Local\\anaconda3\\Lib\\site-packages\\numpy\\__init__.py:333\u001b[0m, in \u001b[0;36m__getattr__\u001b[1;34m(attr)\u001b[0m\n\u001b[0;32m    330\u001b[0m     \u001b[38;5;124m\"\u001b[39m\u001b[38;5;124mRemoved in NumPy 1.25.0\u001b[39m\u001b[38;5;124m\"\u001b[39m\n\u001b[0;32m    331\u001b[0m     \u001b[38;5;28;01mraise\u001b[39;00m \u001b[38;5;167;01mRuntimeError\u001b[39;00m(\u001b[38;5;124m\"\u001b[39m\u001b[38;5;124mTester was removed in NumPy 1.25.\u001b[39m\u001b[38;5;124m\"\u001b[39m)\n\u001b[1;32m--> 333\u001b[0m \u001b[38;5;28;01mraise\u001b[39;00m \u001b[38;5;167;01mAttributeError\u001b[39;00m(\u001b[38;5;124m\"\u001b[39m\u001b[38;5;124mmodule \u001b[39m\u001b[38;5;132;01m{!r}\u001b[39;00m\u001b[38;5;124m has no attribute \u001b[39m\u001b[38;5;124m\"\u001b[39m\n\u001b[0;32m    334\u001b[0m                      \u001b[38;5;124m\"\u001b[39m\u001b[38;5;132;01m{!r}\u001b[39;00m\u001b[38;5;124m\"\u001b[39m\u001b[38;5;241m.\u001b[39mformat(\u001b[38;5;18m__name__\u001b[39m, attr))\n",
      "\u001b[1;31mAttributeError\u001b[0m: module 'numpy' has no attribute 'np'"
     ]
    }
   ],
   "source": [
    "import pandas as pd\n",
    "import numpy as np\n",
    "from math import log2\n",
    "data={'Outlook':['Rainy','Rainy','Overcast','Sunny','Sunny','Sunny', 'Overcast','Rainy','Rainy','Sunny','Overcast','Overcast','Sunny'],'Temperature':['Hot','Hot','Hot','Mild','Cool','Cool','Cool','Mild','Cool','Mild','Mild','Hot','Mild'],'Humidity':['High','High','High','High','Normal','Normal','Normal','High','Normal','Normal','High','Normal','High'],'Windy':['FALSE','TRUE','FALSE','FALSE','FALSE','TRUE', 'TRUE', 'FALSE', 'FALSE', 'FALSE', 'TRUE', 'FALSE', 'TRUE'],'Play Golf':['No', 'No', 'Yes', 'Yes', 'Yes', 'No', 'Yes', 'No', 'Yes', 'Yes', 'Yes', 'Yes', 'No']\n",
    "     }\n",
    "df=pd.DataFrame(data)\n",
    "def entropy(target_col):\n",
    "    elements, counts =np.unique(target_col,return_counts=True)\n",
    "    entropy=np.sum([(-counts[i]/np.sum(counts))*log2(counts[i]/np.sum(counts)) for i in range (len(elements))])\n",
    "    return entropy\n",
    "def info_gain(data, split_attribute_name,target_name=\"Play Golf\"):\n",
    "    total_entropy=entropy(data[target_name])\n",
    "    vals,counts=np.np.unique(data[split_attribute_name],return_counts=True)\n",
    "    weighted_entropy=np.sum([(counts[i]/np.sum(counts))*entropy(data.where(data[split_attribute_name]==vals[i]).dropna()[target_name]) for i in range (len(vals))])\n",
    "    information_gain= total_entropy-weighted_entropy\n",
    "    return information_gain\n",
    "def id3(data,original_data, features,target_attribute_name=\"Play Golf\", parent_node_class=None):\n",
    "    if len(np.unique(data[target_attribute_name]))<=1:\n",
    "        return np.unique(data[target_attribute_name])[0]\n",
    "    elif len(data)==0:\n",
    "        return np.unique(original_data[target_attribute_name])[np.argmax(np.unique(original_data[target_attribute_name],return_counts=True)[1])]\n",
    "    elif len(features)==0:\n",
    "        return parent_node_class\n",
    "    else:\n",
    "        parent_node_class=np.unique(data[target_attribute_name])[np.argmax(np.unique(data[target_attribute_name], return_counts=True)[1])]\n",
    "        item_values=[info_gain(data,feature,target_attribute_name) for feature in features]\n",
    "        best_feature_index=np.argmax(item_values)\n",
    "        best_feature=features[best_feature_index]\n",
    "        tree={best_feature:{}}\n",
    "        features=[i for i in features if i != best_feature]\n",
    "        for value in np.unique(data[best_feature]):\n",
    "            sub_data=data.where(data[best_feature]==value).dropna()\n",
    "            subtree=id3(sub_data,data,features,target_attribute_name,parent_node_class)\n",
    "            tree[best_feature][value]=subtree\n",
    "            return decision_tree\n",
    "features= ['Outlook','Temperature','Humidity','Windy']\n",
    "decision_tree=id3(df,df,features)\n",
    "\n",
    "\n",
    "\n",
    "\n",
    "\n",
    "\n",
    "\n"
   ]
  },
  {
   "cell_type": "code",
   "execution_count": null,
   "id": "3d5df7dc-cf38-4289-8797-1c58c9105c76",
   "metadata": {},
   "outputs": [],
   "source": []
  }
 ],
 "metadata": {
  "kernelspec": {
   "display_name": "Python [conda env:base] *",
   "language": "python",
   "name": "conda-base-py"
  },
  "language_info": {
   "codemirror_mode": {
    "name": "ipython",
    "version": 3
   },
   "file_extension": ".py",
   "mimetype": "text/x-python",
   "name": "python",
   "nbconvert_exporter": "python",
   "pygments_lexer": "ipython3",
   "version": "3.12.7"
  }
 },
 "nbformat": 4,
 "nbformat_minor": 5
}
